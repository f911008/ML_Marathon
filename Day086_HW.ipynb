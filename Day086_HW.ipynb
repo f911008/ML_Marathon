{
 "cells": [
  {
   "cell_type": "markdown",
   "metadata": {},
   "source": [
    "## Work\n",
    "1. 試比較 save_best_only 與否的差異\n",
    "2. 請僅存入將 save_weights_only 設定為 True, 並嘗試 reset ipynb 並將模型與權重重新建回並預測 x_test"
   ]
  },
  {
   "cell_type": "code",
   "execution_count": 70,
   "metadata": {},
   "outputs": [],
   "source": [
    "import os\n",
    "import keras\n",
    "\n",
    "# Disable GPU\n",
    "os.environ[\"CUDA_VISIBLE_DEVICES\"] = \"0\""
   ]
  },
  {
   "cell_type": "code",
   "execution_count": 71,
   "metadata": {},
   "outputs": [],
   "source": [
    "train, test = keras.datasets.cifar10.load_data()"
   ]
  },
  {
   "cell_type": "code",
   "execution_count": 72,
   "metadata": {},
   "outputs": [],
   "source": [
    "## 資料前處理\n",
    "def preproc_x(x, flatten=True):\n",
    "    x = x / 255.\n",
    "    if flatten:\n",
    "        x = x.reshape((len(x), -1))\n",
    "    return x\n",
    "\n",
    "def preproc_y(y, num_classes=10):\n",
    "    if y.shape[-1] == 1:\n",
    "        y = keras.utils.to_categorical(y, num_classes)\n",
    "    return y   "
   ]
  },
  {
   "cell_type": "code",
   "execution_count": 90,
   "metadata": {},
   "outputs": [],
   "source": [
    "x_train, y_train = train\n",
    "x_test, y_test = test\n",
    "\n",
    "# 資料前處理 - X 標準化\n",
    "x_train = preproc_x(x_train)\n",
    "x_test = preproc_x(x_test)\n",
    "\n",
    "# 資料前處理 -Y 轉成 onehot\n",
    "y_train = preproc_y(y_train)\n",
    "y_test = preproc_y(y_test)"
   ]
  },
  {
   "cell_type": "code",
   "execution_count": 91,
   "metadata": {},
   "outputs": [],
   "source": [
    "from keras.layers import BatchNormalization\n",
    "def build_mlp(input_shape, output_units=10, num_neurons=[512, 256, 128]):\n",
    "    input_layer = keras.layers.Input(input_shape)\n",
    "    \n",
    "    for i, n_units in enumerate(num_neurons):\n",
    "        if i == 0:\n",
    "            x = keras.layers.Dense(units=n_units, \n",
    "                                   activation=\"relu\", \n",
    "                                   name=\"hidden_layer\"+str(i+1))(input_layer)\n",
    "            x = BatchNormalization()(x)\n",
    "        else:\n",
    "            x = keras.layers.Dense(units=n_units, \n",
    "                                   activation=\"relu\", \n",
    "                                   name=\"hidden_layer\"+str(i+1))(x)\n",
    "            x = BatchNormalization()(x)\n",
    "    \n",
    "    out = keras.layers.Dense(units=output_units, activation=\"softmax\", name=\"output\")(x)\n",
    "    \n",
    "    model = keras.models.Model(inputs=[input_layer], outputs=[out])\n",
    "    return model"
   ]
  },
  {
   "cell_type": "code",
   "execution_count": 92,
   "metadata": {},
   "outputs": [],
   "source": [
    "\"\"\"Code Here\n",
    "設定超參數\n",
    "\"\"\"\n",
    "LEARNING_RATE = 1e-3\n",
    "EPOCHS = 50\n",
    "BATCH_SIZE = 1024\n",
    "MOMENTUM = 0.95"
   ]
  },
  {
   "cell_type": "code",
   "execution_count": 93,
   "metadata": {},
   "outputs": [],
   "source": [
    "\"\"\"\n",
    "# 載入 Callbacks, 並將監控目標設為 validation loss, 且只存最佳參數時的模型\n",
    "\"\"\"\n",
    "from keras.callbacks import ModelCheckpoint\n",
    "\n",
    "model_ckpt = ModelCheckpoint(filepath=\"./tmp.h5\", \n",
    "                             monitor=\"val_loss\", \n",
    "                             save_best_only= True)"
   ]
  },
  {
   "cell_type": "code",
   "execution_count": 94,
   "metadata": {},
   "outputs": [
    {
     "name": "stdout",
     "output_type": "stream",
     "text": [
      "Model: \"model\"\n",
      "_________________________________________________________________\n",
      "Layer (type)                 Output Shape              Param #   \n",
      "=================================================================\n",
      "input_1 (InputLayer)         [(None, 3072)]            0         \n",
      "_________________________________________________________________\n",
      "hidden_layer1 (Dense)        (None, 512)               1573376   \n",
      "_________________________________________________________________\n",
      "batch_normalization (BatchNo (None, 512)               2048      \n",
      "_________________________________________________________________\n",
      "hidden_layer2 (Dense)        (None, 256)               131328    \n",
      "_________________________________________________________________\n",
      "batch_normalization_1 (Batch (None, 256)               1024      \n",
      "_________________________________________________________________\n",
      "hidden_layer3 (Dense)        (None, 128)               32896     \n",
      "_________________________________________________________________\n",
      "batch_normalization_2 (Batch (None, 128)               512       \n",
      "_________________________________________________________________\n",
      "output (Dense)               (None, 10)                1290      \n",
      "=================================================================\n",
      "Total params: 1,742,474\n",
      "Trainable params: 1,740,682\n",
      "Non-trainable params: 1,792\n",
      "_________________________________________________________________\n",
      "Epoch 1/50\n",
      "49/49 [==============================] - 3s 46ms/step - loss: 2.5036 - accuracy: 0.2030 - val_loss: 2.1364 - val_accuracy: 0.2115\n",
      "Epoch 2/50\n",
      "49/49 [==============================] - 2s 39ms/step - loss: 1.7822 - accuracy: 0.3795 - val_loss: 1.9471 - val_accuracy: 0.2973\n",
      "Epoch 3/50\n",
      "49/49 [==============================] - 2s 39ms/step - loss: 1.6281 - accuracy: 0.4287 - val_loss: 1.8108 - val_accuracy: 0.3721\n",
      "Epoch 4/50\n",
      "49/49 [==============================] - 2s 40ms/step - loss: 1.5532 - accuracy: 0.4554 - val_loss: 1.7233 - val_accuracy: 0.4042\n",
      "Epoch 5/50\n",
      "49/49 [==============================] - 2s 38ms/step - loss: 1.4965 - accuracy: 0.4755 - val_loss: 1.6510 - val_accuracy: 0.4247\n",
      "Epoch 6/50\n",
      "49/49 [==============================] - 2s 40ms/step - loss: 1.4540 - accuracy: 0.4956 - val_loss: 1.5905 - val_accuracy: 0.4442\n",
      "Epoch 7/50\n",
      "49/49 [==============================] - 2s 39ms/step - loss: 1.4053 - accuracy: 0.5062 - val_loss: 1.5491 - val_accuracy: 0.4575\n",
      "Epoch 8/50\n",
      "49/49 [==============================] - 2s 38ms/step - loss: 1.3767 - accuracy: 0.5195 - val_loss: 1.5286 - val_accuracy: 0.4666\n",
      "Epoch 9/50\n",
      "49/49 [==============================] - 2s 39ms/step - loss: 1.3415 - accuracy: 0.5344 - val_loss: 1.5160 - val_accuracy: 0.4613\n",
      "Epoch 10/50\n",
      "49/49 [==============================] - 2s 39ms/step - loss: 1.3128 - accuracy: 0.5445 - val_loss: 1.4940 - val_accuracy: 0.4731\n",
      "Epoch 11/50\n",
      "49/49 [==============================] - 2s 38ms/step - loss: 1.2771 - accuracy: 0.5557 - val_loss: 1.4909 - val_accuracy: 0.4771\n",
      "Epoch 12/50\n",
      "49/49 [==============================] - 2s 39ms/step - loss: 1.2510 - accuracy: 0.5684 - val_loss: 1.4809 - val_accuracy: 0.4794\n",
      "Epoch 13/50\n",
      "49/49 [==============================] - 2s 39ms/step - loss: 1.2218 - accuracy: 0.5801 - val_loss: 1.4764 - val_accuracy: 0.4796\n",
      "Epoch 14/50\n",
      "49/49 [==============================] - 2s 39ms/step - loss: 1.2012 - accuracy: 0.5858 - val_loss: 1.4626 - val_accuracy: 0.4882\n",
      "Epoch 15/50\n",
      "49/49 [==============================] - 2s 40ms/step - loss: 1.1760 - accuracy: 0.5961 - val_loss: 1.4693 - val_accuracy: 0.4898\n",
      "Epoch 16/50\n",
      "49/49 [==============================] - 2s 39ms/step - loss: 1.1540 - accuracy: 0.6043 - val_loss: 1.4560 - val_accuracy: 0.4925\n",
      "Epoch 17/50\n",
      "49/49 [==============================] - 2s 39ms/step - loss: 1.1364 - accuracy: 0.6114 - val_loss: 1.4607 - val_accuracy: 0.4902\n",
      "Epoch 18/50\n",
      "49/49 [==============================] - 2s 40ms/step - loss: 1.1124 - accuracy: 0.6217 - val_loss: 1.4694 - val_accuracy: 0.4874\n",
      "Epoch 19/50\n",
      "49/49 [==============================] - 2s 39ms/step - loss: 1.0790 - accuracy: 0.6321 - val_loss: 1.4532 - val_accuracy: 0.4932\n",
      "Epoch 20/50\n",
      "49/49 [==============================] - 2s 39ms/step - loss: 1.0640 - accuracy: 0.6387 - val_loss: 1.4611 - val_accuracy: 0.4933\n",
      "Epoch 21/50\n",
      "49/49 [==============================] - 2s 40ms/step - loss: 1.0339 - accuracy: 0.6511 - val_loss: 1.4503 - val_accuracy: 0.5013\n",
      "Epoch 22/50\n",
      "49/49 [==============================] - 2s 39ms/step - loss: 1.0168 - accuracy: 0.6556 - val_loss: 1.4576 - val_accuracy: 0.4975\n",
      "Epoch 23/50\n",
      "49/49 [==============================] - 2s 40ms/step - loss: 0.9895 - accuracy: 0.6681 - val_loss: 1.4619 - val_accuracy: 0.4955\n",
      "Epoch 24/50\n",
      "49/49 [==============================] - 2s 40ms/step - loss: 0.9743 - accuracy: 0.6744 - val_loss: 1.4482 - val_accuracy: 0.4948\n",
      "Epoch 25/50\n",
      "49/49 [==============================] - 2s 39ms/step - loss: 0.9569 - accuracy: 0.6775 - val_loss: 1.4524 - val_accuracy: 0.4964\n",
      "Epoch 26/50\n",
      "49/49 [==============================] - 2s 39ms/step - loss: 0.9375 - accuracy: 0.6866 - val_loss: 1.4630 - val_accuracy: 0.5016\n",
      "Epoch 27/50\n",
      "49/49 [==============================] - 2s 40ms/step - loss: 0.9208 - accuracy: 0.6922 - val_loss: 1.4705 - val_accuracy: 0.4970\n",
      "Epoch 28/50\n",
      "49/49 [==============================] - 2s 39ms/step - loss: 0.8878 - accuracy: 0.7071 - val_loss: 1.4642 - val_accuracy: 0.5034\n",
      "Epoch 29/50\n",
      "49/49 [==============================] - 2s 39ms/step - loss: 0.8693 - accuracy: 0.7122 - val_loss: 1.4956 - val_accuracy: 0.4953\n",
      "Epoch 30/50\n",
      "49/49 [==============================] - 2s 40ms/step - loss: 0.8590 - accuracy: 0.7162 - val_loss: 1.4708 - val_accuracy: 0.4999\n",
      "Epoch 31/50\n",
      "49/49 [==============================] - 2s 40ms/step - loss: 0.8327 - accuracy: 0.7285 - val_loss: 1.4837 - val_accuracy: 0.4981\n",
      "Epoch 32/50\n",
      "49/49 [==============================] - 2s 39ms/step - loss: 0.8171 - accuracy: 0.7334 - val_loss: 1.4939 - val_accuracy: 0.5039\n",
      "Epoch 33/50\n",
      "49/49 [==============================] - 2s 40ms/step - loss: 0.7947 - accuracy: 0.7427 - val_loss: 1.4925 - val_accuracy: 0.4986\n",
      "Epoch 34/50\n",
      "49/49 [==============================] - 2s 39ms/step - loss: 0.7865 - accuracy: 0.7442 - val_loss: 1.5061 - val_accuracy: 0.4983\n",
      "Epoch 35/50\n",
      "49/49 [==============================] - 2s 40ms/step - loss: 0.7579 - accuracy: 0.7583 - val_loss: 1.4990 - val_accuracy: 0.5038\n",
      "Epoch 36/50\n",
      "49/49 [==============================] - 2s 40ms/step - loss: 0.7372 - accuracy: 0.7668 - val_loss: 1.5118 - val_accuracy: 0.5048\n",
      "Epoch 37/50\n",
      "49/49 [==============================] - 2s 39ms/step - loss: 0.7184 - accuracy: 0.7740 - val_loss: 1.5202 - val_accuracy: 0.5032\n",
      "Epoch 38/50\n",
      "49/49 [==============================] - 2s 38ms/step - loss: 0.7000 - accuracy: 0.7807 - val_loss: 1.5306 - val_accuracy: 0.5027\n",
      "Epoch 39/50\n",
      "49/49 [==============================] - 2s 41ms/step - loss: 0.6788 - accuracy: 0.7888 - val_loss: 1.5362 - val_accuracy: 0.4998\n",
      "Epoch 40/50\n",
      "49/49 [==============================] - 2s 39ms/step - loss: 0.6640 - accuracy: 0.7955 - val_loss: 1.5319 - val_accuracy: 0.5012\n",
      "Epoch 41/50\n",
      "49/49 [==============================] - 2s 39ms/step - loss: 0.6442 - accuracy: 0.8034 - val_loss: 1.5473 - val_accuracy: 0.5035\n",
      "Epoch 42/50\n",
      "49/49 [==============================] - 2s 40ms/step - loss: 0.6253 - accuracy: 0.8101 - val_loss: 1.5939 - val_accuracy: 0.4990\n",
      "Epoch 43/50\n",
      "49/49 [==============================] - 2s 39ms/step - loss: 0.6117 - accuracy: 0.8149 - val_loss: 1.5885 - val_accuracy: 0.4931\n",
      "Epoch 44/50\n",
      "49/49 [==============================] - 2s 39ms/step - loss: 0.5931 - accuracy: 0.8222 - val_loss: 1.6002 - val_accuracy: 0.4999\n",
      "Epoch 45/50\n",
      "49/49 [==============================] - 2s 40ms/step - loss: 0.5799 - accuracy: 0.8284 - val_loss: 1.6124 - val_accuracy: 0.4933\n",
      "Epoch 46/50\n",
      "49/49 [==============================] - 2s 39ms/step - loss: 0.5570 - accuracy: 0.8360 - val_loss: 1.6273 - val_accuracy: 0.4965\n",
      "Epoch 47/50\n",
      "49/49 [==============================] - 2s 39ms/step - loss: 0.5418 - accuracy: 0.8418 - val_loss: 1.6335 - val_accuracy: 0.4972\n",
      "Epoch 48/50\n",
      "49/49 [==============================] - 2s 40ms/step - loss: 0.5240 - accuracy: 0.8508 - val_loss: 1.6304 - val_accuracy: 0.4962\n"
     ]
    },
    {
     "name": "stdout",
     "output_type": "stream",
     "text": [
      "Epoch 49/50\n",
      "49/49 [==============================] - 2s 39ms/step - loss: 0.5070 - accuracy: 0.8570 - val_loss: 1.6477 - val_accuracy: 0.4963\n",
      "Epoch 50/50\n",
      "49/49 [==============================] - 2s 39ms/step - loss: 0.4931 - accuracy: 0.8626 - val_loss: 1.6537 - val_accuracy: 0.4977\n",
      "313/313 [==============================] - 1s 2ms/step - loss: 1.4482 - accuracy: 0.4948\n"
     ]
    }
   ],
   "source": [
    "keras.backend.clear_session() # 把舊的 Graph 清掉\n",
    "model = build_mlp(input_shape=x_train.shape[1:])\n",
    "model.summary()\n",
    "optimizer = keras.optimizers.SGD(lr=LEARNING_RATE, nesterov=True, momentum=MOMENTUM)\n",
    "model.compile(loss=\"categorical_crossentropy\", metrics=[\"accuracy\"], optimizer=optimizer)\n",
    "\n",
    "model.fit(x_train, y_train, \n",
    "          epochs=EPOCHS, \n",
    "          batch_size=BATCH_SIZE, \n",
    "          validation_data=(x_test, y_test), \n",
    "          shuffle=True,\n",
    "          callbacks=[model_ckpt]\n",
    "         )\n",
    "\n",
    "# Collect results\n",
    "train_loss = model.history.history[\"loss\"]\n",
    "valid_loss = model.history.history[\"val_loss\"]\n",
    "train_acc = model.history.history[\"accuracy\"]\n",
    "valid_acc = model.history.history[\"val_accuracy\"]\n",
    "\n",
    "# Load back\n",
    "model = keras.models.load_model(\"./tmp.h5\")\n",
    "loss_loadback, acc_loadback = model.evaluate(x_test, y_test)"
   ]
  },
  {
   "cell_type": "code",
   "execution_count": 88,
   "metadata": {
    "scrolled": true
   },
   "outputs": [
    {
     "data": {
      "image/png": "[encoded data removed]",
      "text/plain": [
       "<Figure size 432x288 with 1 Axes>"
      ]
     },
     "metadata": {
      "needs_background": "light"
     },
     "output_type": "display_data"
    },
    {
     "data": {
      "image/png": "[encoded data removed]",
      "text/plain": [
       "<Figure size 432x288 with 1 Axes>"
      ]
     },
     "metadata": {
      "needs_background": "light"
     },
     "output_type": "display_data"
    }
   ],
   "source": [
    "import matplotlib.pyplot as plt\n",
    "%matplotlib inline\n",
    "\"\"\"Code Here\n",
    "將結果繪出\n",
    "\"\"\"\n",
    "plt.plot(range(len(train_loss)), train_loss, label=\"train loss\")\n",
    "plt.plot(range(len(valid_loss)), valid_loss, label=\"valid loss\")\n",
    "plt.hlines(y=loss_loadback, xmin=0, xmax=len(train_loss), colors='r', linestyles='--')\n",
    "plt.legend()\n",
    "plt.title(\"Loss\")\n",
    "plt.show()\n",
    "\n",
    "plt.plot(range(len(train_acc)), train_acc, label=\"train accuracy\")\n",
    "plt.plot(range(len(valid_acc)), valid_acc, label=\"valid accuracy\")\n",
    "plt.hlines(y=acc_loadback, xmin=0, xmax=len(train_loss), colors='r', linestyles='--')\n",
    "plt.legend()\n",
    "plt.title(\"Accuracy\")\n",
    "plt.show()"
   ]
  },
  {
   "cell_type": "code",
   "execution_count": 96,
   "metadata": {},
   "outputs": [],
   "source": [
    "\"\"\"\n",
    "# 載入 Callbacks, 並將監控目標設為 validation loss, 且只存最佳參數時的模型\n",
    "\"\"\"\n",
    "from keras.callbacks import ModelCheckpoint\n",
    "\n",
    "model_ckpt = ModelCheckpoint(filepath=\"./tmp.h6\", \n",
    "                             monitor=\"val_loss\", \n",
    "                             save_best_only= False,\n",
    "                             save_weights_only = True)"
   ]
  },
  {
   "cell_type": "code",
   "execution_count": 97,
   "metadata": {},
   "outputs": [
    {
     "name": "stdout",
     "output_type": "stream",
     "text": [
      "Model: \"model\"\n",
      "_________________________________________________________________\n",
      "Layer (type)                 Output Shape              Param #   \n",
      "=================================================================\n",
      "input_1 (InputLayer)         [(None, 3072)]            0         \n",
      "_________________________________________________________________\n",
      "hidden_layer1 (Dense)        (None, 512)               1573376   \n",
      "_________________________________________________________________\n",
      "batch_normalization (BatchNo (None, 512)               2048      \n",
      "_________________________________________________________________\n",
      "hidden_layer2 (Dense)        (None, 256)               131328    \n",
      "_________________________________________________________________\n",
      "batch_normalization_1 (Batch (None, 256)               1024      \n",
      "_________________________________________________________________\n",
      "hidden_layer3 (Dense)        (None, 128)               32896     \n",
      "_________________________________________________________________\n",
      "batch_normalization_2 (Batch (None, 128)               512       \n",
      "_________________________________________________________________\n",
      "output (Dense)               (None, 10)                1290      \n",
      "=================================================================\n",
      "Total params: 1,742,474\n",
      "Trainable params: 1,740,682\n",
      "Non-trainable params: 1,792\n",
      "_________________________________________________________________\n",
      "Epoch 1/50\n",
      "49/49 [==============================] - 3s 41ms/step - loss: 2.5948 - accuracy: 0.1929 - val_loss: 2.1613 - val_accuracy: 0.1659\n",
      "Epoch 2/50\n",
      "49/49 [==============================] - 2s 41ms/step - loss: 1.7734 - accuracy: 0.3838 - val_loss: 1.9407 - val_accuracy: 0.3256\n",
      "Epoch 3/50\n",
      "49/49 [==============================] - 2s 41ms/step - loss: 1.6412 - accuracy: 0.4280 - val_loss: 1.8111 - val_accuracy: 0.3788\n",
      "Epoch 4/50\n",
      "49/49 [==============================] - 2s 42ms/step - loss: 1.5528 - accuracy: 0.4560 - val_loss: 1.7085 - val_accuracy: 0.4127\n",
      "Epoch 5/50\n",
      "49/49 [==============================] - 2s 42ms/step - loss: 1.5103 - accuracy: 0.4713 - val_loss: 1.6296 - val_accuracy: 0.4343\n",
      "Epoch 6/50\n",
      "49/49 [==============================] - 2s 41ms/step - loss: 1.4683 - accuracy: 0.4834 - val_loss: 1.5898 - val_accuracy: 0.4443\n",
      "Epoch 7/50\n",
      "49/49 [==============================] - 2s 42ms/step - loss: 1.4288 - accuracy: 0.4993 - val_loss: 1.5560 - val_accuracy: 0.4522\n",
      "Epoch 8/50\n",
      "49/49 [==============================] - 2s 43ms/step - loss: 1.3893 - accuracy: 0.5147 - val_loss: 1.5339 - val_accuracy: 0.4633\n",
      "Epoch 9/50\n",
      "49/49 [==============================] - 2s 39ms/step - loss: 1.3527 - accuracy: 0.5280 - val_loss: 1.5152 - val_accuracy: 0.4639\n",
      "Epoch 10/50\n",
      "49/49 [==============================] - 2s 39ms/step - loss: 1.3274 - accuracy: 0.5380 - val_loss: 1.4964 - val_accuracy: 0.4701\n",
      "Epoch 11/50\n",
      "49/49 [==============================] - 2s 42ms/step - loss: 1.3042 - accuracy: 0.5467 - val_loss: 1.4860 - val_accuracy: 0.4765\n",
      "Epoch 12/50\n",
      "49/49 [==============================] - 2s 41ms/step - loss: 1.2687 - accuracy: 0.5590 - val_loss: 1.4831 - val_accuracy: 0.4770\n",
      "Epoch 13/50\n",
      "49/49 [==============================] - 2s 40ms/step - loss: 1.2467 - accuracy: 0.5659 - val_loss: 1.4761 - val_accuracy: 0.4780\n",
      "Epoch 14/50\n",
      "49/49 [==============================] - 2s 42ms/step - loss: 1.2214 - accuracy: 0.5763 - val_loss: 1.4701 - val_accuracy: 0.4809\n",
      "Epoch 15/50\n",
      "49/49 [==============================] - 2s 43ms/step - loss: 1.1920 - accuracy: 0.5886 - val_loss: 1.4625 - val_accuracy: 0.4863\n",
      "Epoch 16/50\n",
      "49/49 [==============================] - 2s 41ms/step - loss: 1.1668 - accuracy: 0.5986 - val_loss: 1.4622 - val_accuracy: 0.4869\n",
      "Epoch 17/50\n",
      "49/49 [==============================] - 2s 41ms/step - loss: 1.1493 - accuracy: 0.6028 - val_loss: 1.4701 - val_accuracy: 0.4808\n",
      "Epoch 18/50\n",
      "49/49 [==============================] - 2s 41ms/step - loss: 1.1213 - accuracy: 0.6148 - val_loss: 1.4546 - val_accuracy: 0.4871\n",
      "Epoch 19/50\n",
      "49/49 [==============================] - 2s 42ms/step - loss: 1.1038 - accuracy: 0.6215 - val_loss: 1.4526 - val_accuracy: 0.4900\n",
      "Epoch 20/50\n",
      "49/49 [==============================] - 2s 40ms/step - loss: 1.0853 - accuracy: 0.6308 - val_loss: 1.4579 - val_accuracy: 0.4876\n",
      "Epoch 21/50\n",
      "49/49 [==============================] - 2s 40ms/step - loss: 1.0625 - accuracy: 0.6384 - val_loss: 1.4629 - val_accuracy: 0.4883\n",
      "Epoch 22/50\n",
      "49/49 [==============================] - 2s 41ms/step - loss: 1.0423 - accuracy: 0.6444 - val_loss: 1.4539 - val_accuracy: 0.4907\n",
      "Epoch 23/50\n",
      "49/49 [==============================] - 2s 41ms/step - loss: 1.0088 - accuracy: 0.6593 - val_loss: 1.4580 - val_accuracy: 0.4936\n",
      "Epoch 24/50\n",
      "49/49 [==============================] - 2s 40ms/step - loss: 0.9962 - accuracy: 0.6628 - val_loss: 1.4639 - val_accuracy: 0.4909\n",
      "Epoch 25/50\n",
      "49/49 [==============================] - 2s 42ms/step - loss: 0.9708 - accuracy: 0.6737 - val_loss: 1.4626 - val_accuracy: 0.4933\n",
      "Epoch 26/50\n",
      "49/49 [==============================] - 2s 42ms/step - loss: 0.9564 - accuracy: 0.6795 - val_loss: 1.4669 - val_accuracy: 0.4902\n",
      "Epoch 27/50\n",
      "49/49 [==============================] - 2s 41ms/step - loss: 0.9364 - accuracy: 0.6915 - val_loss: 1.4570 - val_accuracy: 0.4975\n",
      "Epoch 28/50\n",
      "49/49 [==============================] - 2s 43ms/step - loss: 0.9141 - accuracy: 0.6966 - val_loss: 1.4766 - val_accuracy: 0.4941\n",
      "Epoch 29/50\n",
      "49/49 [==============================] - 2s 41ms/step - loss: 0.8887 - accuracy: 0.7070 - val_loss: 1.4735 - val_accuracy: 0.4959\n",
      "Epoch 30/50\n",
      "49/49 [==============================] - 2s 43ms/step - loss: 0.8765 - accuracy: 0.7125 - val_loss: 1.4828 - val_accuracy: 0.4912\n",
      "Epoch 31/50\n",
      "49/49 [==============================] - 2s 41ms/step - loss: 0.8545 - accuracy: 0.7194 - val_loss: 1.4945 - val_accuracy: 0.4901\n",
      "Epoch 32/50\n",
      "49/49 [==============================] - 2s 41ms/step - loss: 0.8341 - accuracy: 0.7290 - val_loss: 1.5038 - val_accuracy: 0.4902\n",
      "Epoch 33/50\n",
      "49/49 [==============================] - 2s 41ms/step - loss: 0.8165 - accuracy: 0.7362 - val_loss: 1.4865 - val_accuracy: 0.4966\n",
      "Epoch 34/50\n",
      "49/49 [==============================] - 2s 40ms/step - loss: 0.7895 - accuracy: 0.7472 - val_loss: 1.4979 - val_accuracy: 0.4915\n",
      "Epoch 35/50\n",
      "49/49 [==============================] - 2s 40ms/step - loss: 0.7813 - accuracy: 0.7500 - val_loss: 1.5025 - val_accuracy: 0.4931\n",
      "Epoch 36/50\n",
      "49/49 [==============================] - 2s 42ms/step - loss: 0.7582 - accuracy: 0.7607 - val_loss: 1.5111 - val_accuracy: 0.4970\n",
      "Epoch 37/50\n",
      "49/49 [==============================] - 2s 41ms/step - loss: 0.7313 - accuracy: 0.7703 - val_loss: 1.5149 - val_accuracy: 0.4949\n",
      "Epoch 38/50\n",
      "49/49 [==============================] - 2s 41ms/step - loss: 0.7190 - accuracy: 0.7741 - val_loss: 1.5260 - val_accuracy: 0.4957\n",
      "Epoch 39/50\n",
      "49/49 [==============================] - 2s 42ms/step - loss: 0.7027 - accuracy: 0.7804 - val_loss: 1.5437 - val_accuracy: 0.4938\n",
      "Epoch 40/50\n",
      "49/49 [==============================] - 2s 42ms/step - loss: 0.6809 - accuracy: 0.7882 - val_loss: 1.5507 - val_accuracy: 0.4942\n",
      "Epoch 41/50\n",
      "49/49 [==============================] - 2s 41ms/step - loss: 0.6561 - accuracy: 0.7996 - val_loss: 1.5719 - val_accuracy: 0.4850\n",
      "Epoch 42/50\n",
      "49/49 [==============================] - 2s 41ms/step - loss: 0.6390 - accuracy: 0.8088 - val_loss: 1.5777 - val_accuracy: 0.4924\n",
      "Epoch 43/50\n",
      "49/49 [==============================] - 2s 40ms/step - loss: 0.6264 - accuracy: 0.8110 - val_loss: 1.5713 - val_accuracy: 0.4925\n",
      "Epoch 44/50\n",
      "49/49 [==============================] - 2s 42ms/step - loss: 0.6103 - accuracy: 0.8151 - val_loss: 1.5866 - val_accuracy: 0.4950\n",
      "Epoch 45/50\n",
      "49/49 [==============================] - 2s 41ms/step - loss: 0.5912 - accuracy: 0.8259 - val_loss: 1.6049 - val_accuracy: 0.4933\n",
      "Epoch 46/50\n",
      "49/49 [==============================] - 2s 41ms/step - loss: 0.5734 - accuracy: 0.8358 - val_loss: 1.6051 - val_accuracy: 0.4892\n",
      "Epoch 47/50\n",
      "49/49 [==============================] - 2s 42ms/step - loss: 0.5561 - accuracy: 0.8384 - val_loss: 1.6277 - val_accuracy: 0.4888\n",
      "Epoch 48/50\n",
      "49/49 [==============================] - 2s 40ms/step - loss: 0.5347 - accuracy: 0.8465 - val_loss: 1.6617 - val_accuracy: 0.4842\n"
     ]
    },
    {
     "name": "stdout",
     "output_type": "stream",
     "text": [
      "Epoch 49/50\n",
      "49/49 [==============================] - 2s 39ms/step - loss: 0.5247 - accuracy: 0.8528 - val_loss: 1.6503 - val_accuracy: 0.4898\n",
      "Epoch 50/50\n",
      "49/49 [==============================] - 2s 38ms/step - loss: 0.5094 - accuracy: 0.8608 - val_loss: 1.6600 - val_accuracy: 0.4870\n",
      "313/313 [==============================] - 1s 2ms/step - loss: 1.4482 - accuracy: 0.4948\n"
     ]
    }
   ],
   "source": [
    "keras.backend.clear_session() # 把舊的 Graph 清掉\n",
    "model = build_mlp(input_shape=x_train.shape[1:])\n",
    "model.summary()\n",
    "optimizer = keras.optimizers.SGD(lr=LEARNING_RATE, nesterov=True, momentum=MOMENTUM)\n",
    "model.compile(loss=\"categorical_crossentropy\", metrics=[\"accuracy\"], optimizer=optimizer)\n",
    "\n",
    "model.fit(x_train, y_train, \n",
    "          epochs=EPOCHS, \n",
    "          batch_size=BATCH_SIZE, \n",
    "          validation_data=(x_test, y_test), \n",
    "          shuffle=True,\n",
    "          callbacks=[model_ckpt]\n",
    "         )\n",
    "\n",
    "# Collect results\n",
    "train_loss = model.history.history[\"loss\"]\n",
    "valid_loss = model.history.history[\"val_loss\"]\n",
    "train_acc = model.history.history[\"accuracy\"]\n",
    "valid_acc = model.history.history[\"val_accuracy\"]\n",
    "\n",
    "# Load back\n",
    "model = keras.models.load_model(\"./tmp.h5\")\n",
    "loss_loadback, acc_loadback = model.evaluate(x_test, y_test)"
   ]
  },
  {
   "cell_type": "code",
   "execution_count": 98,
   "metadata": {},
   "outputs": [
    {
     "data": {
      "image/png": "[encoded data removed]",
      "text/plain": [
       "<Figure size 432x288 with 1 Axes>"
      ]
     },
     "metadata": {
      "needs_background": "light"
     },
     "output_type": "display_data"
    },
    {
     "data": {
      "image/png": "[encoded data removed]",
      "text/plain": [
       "<Figure size 432x288 with 1 Axes>"
      ]
     },
     "metadata": {
      "needs_background": "light"
     },
     "output_type": "display_data"
    }
   ],
   "source": [
    "import matplotlib.pyplot as plt\n",
    "%matplotlib inline\n",
    "\"\"\"Code Here\n",
    "將結果繪出\n",
    "\"\"\"\n",
    "plt.plot(range(len(train_loss)), train_loss, label=\"train loss\")\n",
    "plt.plot(range(len(valid_loss)), valid_loss, label=\"valid loss\")\n",
    "plt.hlines(y=loss_loadback, xmin=0, xmax=len(train_loss), colors='r', linestyles='--')\n",
    "plt.legend()\n",
    "plt.title(\"Loss\")\n",
    "plt.show()\n",
    "\n",
    "plt.plot(range(len(train_acc)), train_acc, label=\"train accuracy\")\n",
    "plt.plot(range(len(valid_acc)), valid_acc, label=\"valid accuracy\")\n",
    "plt.hlines(y=acc_loadback, xmin=0, xmax=len(train_loss), colors='r', linestyles='--')\n",
    "plt.legend()\n",
    "plt.title(\"Accuracy\")\n",
    "plt.show()"
   ]
  },
  {
   "cell_type": "code",
   "execution_count": null,
   "metadata": {},
   "outputs": [],
   "source": []
  },
  {
   "cell_type": "code",
   "execution_count": null,
   "metadata": {},
   "outputs": [],
   "source": []
  }
 ],
 "metadata": {
  "kernelspec": {
   "display_name": "Python 3",
   "language": "python",
   "name": "python3"
  },
  "language_info": {
   "codemirror_mode": {
    "name": "ipython",
    "version": 3
   },
   "file_extension": ".py",
   "mimetype": "text/x-python",
   "name": "python",
   "nbconvert_exporter": "python",
   "pygments_lexer": "ipython3",
   "version": "3.7.3"
  }
 },
 "nbformat": 4,
 "nbformat_minor": 2
}
