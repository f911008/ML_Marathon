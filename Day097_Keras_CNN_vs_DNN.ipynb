{
 "cells": [
  {
   "cell_type": "code",
   "execution_count": 35,
   "metadata": {},
   "outputs": [],
   "source": [
    "import keras\n",
    "from keras.datasets import cifar10\n",
    "from keras.preprocessing.image import ImageDataGenerator\n",
    "from keras.models import Sequential\n",
    "from keras.layers import Dense, Dropout, Activation, Flatten\n",
    "from keras.layers import Conv2D, MaxPooling2D\n",
    "from keras.optimizers import RMSprop, Adam\n",
    "import os"
   ]
  },
  {
   "cell_type": "code",
   "execution_count": 36,
   "metadata": {},
   "outputs": [
    {
     "name": "stdout",
     "output_type": "stream",
     "text": [
      "x_train shape: (50000, 32, 32, 3)\n",
      "50000 train samples\n",
      "10000 test samples\n"
     ]
    }
   ],
   "source": [
    "batch_size = 128 # batch 的大小，如果出現 OOM error，請降低這個值\n",
    "num_classes = 10 # 類別的數量，Cifar 10 共有 10 個類別\n",
    "epochs = 20 # 訓練的 epochs 數量\n",
    "\n",
    "# 讀取資料並檢視\n",
    "(x_train, y_train), (x_test, y_test) = cifar10.load_data()\n",
    "print('x_train shape:', x_train.shape)\n",
    "print(x_train.shape[0], 'train samples')\n",
    "print(x_test.shape[0], 'test samples')\n",
    "\n",
    "# 對 label 進行 one-hot encoding (y_trian 原本是純數字)\n",
    "y_train = keras.utils.to_categorical(y_train, num_classes)\n",
    "y_test = keras.utils.to_categorical(y_test, num_classes)"
   ]
  },
  {
   "cell_type": "markdown",
   "metadata": {},
   "source": [
    "## 首先我們使用一般的 DNN (MLP) 來訓練\n",
    "由於 DNN 只能輸入一維的資料，我們要先將影像進行攤平，若 (50000, 32, 32, 3) 的影像，攤平後會變成 (50000, 32*32*3) = (50000, 3072)"
   ]
  },
  {
   "cell_type": "code",
   "execution_count": 37,
   "metadata": {},
   "outputs": [
    {
     "name": "stdout",
     "output_type": "stream",
     "text": [
      "50000 train samples\n",
      "10000 test samples\n"
     ]
    }
   ],
   "source": [
    "# 將資料攤平成一維資料\n",
    "x_train = x_train.reshape(50000, 3072) \n",
    "x_test = x_test.reshape(10000, 3072)\n",
    "\n",
    "# 將資料變為 float32 並標準化\n",
    "x_train = x_train.astype('float32')\n",
    "x_test = x_test.astype('float32')\n",
    "x_train /= 255\n",
    "x_test /= 255\n",
    "print(x_train.shape[0], 'train samples')\n",
    "print(x_test.shape[0], 'test samples')"
   ]
  },
  {
   "cell_type": "code",
   "execution_count": 38,
   "metadata": {},
   "outputs": [
    {
     "name": "stdout",
     "output_type": "stream",
     "text": [
      "Model: \"sequential_16\"\n",
      "_________________________________________________________________\n",
      "Layer (type)                 Output Shape              Param #   \n",
      "=================================================================\n",
      "dense_23 (Dense)             (None, 512)               1573376   \n",
      "_________________________________________________________________\n",
      "dropout_27 (Dropout)         (None, 512)               0         \n",
      "_________________________________________________________________\n",
      "dense_24 (Dense)             (None, 512)               262656    \n",
      "_________________________________________________________________\n",
      "dropout_28 (Dropout)         (None, 512)               0         \n",
      "_________________________________________________________________\n",
      "dense_25 (Dense)             (None, 10)                5130      \n",
      "=================================================================\n",
      "Total params: 1,841,162\n",
      "Trainable params: 1,841,162\n",
      "Non-trainable params: 0\n",
      "_________________________________________________________________\n",
      "Epoch 1/20\n",
      "391/391 [==============================] - 7s 17ms/step - loss: 2.5334 - accuracy: 0.2056 - val_loss: 1.9441 - val_accuracy: 0.2885\n",
      "Epoch 2/20\n",
      "391/391 [==============================] - 6s 16ms/step - loss: 1.8712 - accuracy: 0.3216 - val_loss: 1.7352 - val_accuracy: 0.3849\n",
      "Epoch 3/20\n",
      "391/391 [==============================] - 6s 16ms/step - loss: 1.7785 - accuracy: 0.3614 - val_loss: 1.6644 - val_accuracy: 0.4040\n",
      "Epoch 4/20\n",
      "391/391 [==============================] - 7s 17ms/step - loss: 1.7219 - accuracy: 0.3844 - val_loss: 1.7151 - val_accuracy: 0.3761\n",
      "Epoch 5/20\n",
      "391/391 [==============================] - 7s 17ms/step - loss: 1.6924 - accuracy: 0.3892 - val_loss: 1.6301 - val_accuracy: 0.4209\n",
      "Epoch 6/20\n",
      "391/391 [==============================] - 6s 16ms/step - loss: 1.6611 - accuracy: 0.4042 - val_loss: 1.5881 - val_accuracy: 0.4460\n",
      "Epoch 7/20\n",
      "391/391 [==============================] - 7s 19ms/step - loss: 1.6268 - accuracy: 0.4138 - val_loss: 1.7099 - val_accuracy: 0.3887\n",
      "Epoch 8/20\n",
      "391/391 [==============================] - 7s 17ms/step - loss: 1.6081 - accuracy: 0.4248 - val_loss: 1.5401 - val_accuracy: 0.4554\n",
      "Epoch 9/20\n",
      "391/391 [==============================] - 7s 17ms/step - loss: 1.6122 - accuracy: 0.4248 - val_loss: 1.5746 - val_accuracy: 0.4481\n",
      "Epoch 10/20\n",
      "391/391 [==============================] - 6s 16ms/step - loss: 1.5981 - accuracy: 0.4239 - val_loss: 1.5763 - val_accuracy: 0.4393\n",
      "Epoch 11/20\n",
      "391/391 [==============================] - 6s 16ms/step - loss: 1.5751 - accuracy: 0.4357 - val_loss: 1.5155 - val_accuracy: 0.4626\n",
      "Epoch 12/20\n",
      "391/391 [==============================] - 6s 15ms/step - loss: 1.5617 - accuracy: 0.4451 - val_loss: 1.6136 - val_accuracy: 0.4287\n",
      "Epoch 13/20\n",
      "391/391 [==============================] - 6s 16ms/step - loss: 1.5648 - accuracy: 0.4409 - val_loss: 1.5242 - val_accuracy: 0.4711\n",
      "Epoch 14/20\n",
      "391/391 [==============================] - 6s 16ms/step - loss: 1.5497 - accuracy: 0.4493 - val_loss: 1.5023 - val_accuracy: 0.4666\n",
      "Epoch 15/20\n",
      "391/391 [==============================] - 6s 16ms/step - loss: 1.5411 - accuracy: 0.4534 - val_loss: 1.5329 - val_accuracy: 0.4605\n",
      "Epoch 16/20\n",
      "391/391 [==============================] - 6s 16ms/step - loss: 1.5315 - accuracy: 0.4533 - val_loss: 1.5174 - val_accuracy: 0.4680\n",
      "Epoch 17/20\n",
      "391/391 [==============================] - 6s 15ms/step - loss: 1.5175 - accuracy: 0.4571 - val_loss: 1.5609 - val_accuracy: 0.4520\n",
      "Epoch 18/20\n",
      "391/391 [==============================] - 6s 16ms/step - loss: 1.5133 - accuracy: 0.4611 - val_loss: 1.5115 - val_accuracy: 0.4641\n",
      "Epoch 19/20\n",
      "391/391 [==============================] - 6s 16ms/step - loss: 1.5093 - accuracy: 0.4601 - val_loss: 1.4886 - val_accuracy: 0.4778\n",
      "Epoch 20/20\n",
      "391/391 [==============================] - 6s 16ms/step - loss: 1.5007 - accuracy: 0.4635 - val_loss: 1.4909 - val_accuracy: 0.4703\n",
      "Test loss: 1.4909392595291138\n",
      "Test accuracy: 0.47029998898506165\n"
     ]
    }
   ],
   "source": [
    "model = Sequential()\n",
    "model.add(Dense(512, activation='relu', input_shape=(3072,)))\n",
    "model.add(Dropout(0.2))\n",
    "model.add(Dense(512, activation='relu'))\n",
    "model.add(Dropout(0.2))\n",
    "model.add(Dense(num_classes, activation='softmax'))\n",
    "\n",
    "model.summary()\n",
    "\n",
    "model.compile(loss='categorical_crossentropy',\n",
    "              optimizer=RMSprop(),\n",
    "              metrics=['accuracy'])\n",
    "\n",
    "history = model.fit(x_train, y_train,\n",
    "                    batch_size=batch_size,\n",
    "                    epochs=epochs,\n",
    "                    verbose=1,\n",
    "                    validation_data=(x_test, y_test))\n",
    "score = model.evaluate(x_test, y_test, verbose=0)\n",
    "print('Test loss:', score[0])\n",
    "print('Test accuracy:', score[1])"
   ]
  },
  {
   "cell_type": "markdown",
   "metadata": {},
   "source": [
    "## 接下來我們使用 CNN 來訓練神經網路\n",
    "CNN 的原理非常適合處理影像類的資料，就讓我們來看看，同樣的訓練條件，CNN 是否顯著優於 DNN 呢?"
   ]
  },
  {
   "cell_type": "code",
   "execution_count": 39,
   "metadata": {},
   "outputs": [
    {
     "name": "stdout",
     "output_type": "stream",
     "text": [
      "x_train shape: (50000, 32, 32, 3)\n",
      "50000 train samples\n",
      "10000 test samples\n"
     ]
    }
   ],
   "source": [
    "(x_train, y_train), (x_test, y_test) = cifar10.load_data()\n",
    "print('x_train shape:', x_train.shape)\n",
    "print(x_train.shape[0], 'train samples')\n",
    "print(x_test.shape[0], 'test samples')\n",
    "x_train = x_train.astype('float32')\n",
    "x_test = x_test.astype('float32')\n",
    "x_train /= 255\n",
    "x_test /= 255\n",
    "\n",
    "# Convert class vectors to binary class matrices.\n",
    "y_train = keras.utils.to_categorical(y_train, num_classes)\n",
    "y_test = keras.utils.to_categorical(y_test, num_classes)"
   ]
  },
  {
   "cell_type": "code",
   "execution_count": 40,
   "metadata": {},
   "outputs": [
    {
     "name": "stdout",
     "output_type": "stream",
     "text": [
      "Model: \"sequential_17\"\n",
      "_________________________________________________________________\n",
      "Layer (type)                 Output Shape              Param #   \n",
      "=================================================================\n",
      "conv2d_34 (Conv2D)           (None, 32, 32, 32)        896       \n",
      "_________________________________________________________________\n",
      "activation_42 (Activation)   (None, 32, 32, 32)        0         \n",
      "_________________________________________________________________\n",
      "conv2d_35 (Conv2D)           (None, 30, 30, 32)        9248      \n",
      "_________________________________________________________________\n",
      "activation_43 (Activation)   (None, 30, 30, 32)        0         \n",
      "_________________________________________________________________\n",
      "max_pooling2d_14 (MaxPooling (None, 15, 15, 32)        0         \n",
      "_________________________________________________________________\n",
      "dropout_29 (Dropout)         (None, 15, 15, 32)        0         \n",
      "_________________________________________________________________\n",
      "conv2d_36 (Conv2D)           (None, 15, 15, 64)        18496     \n",
      "_________________________________________________________________\n",
      "activation_44 (Activation)   (None, 15, 15, 64)        0         \n",
      "_________________________________________________________________\n",
      "conv2d_37 (Conv2D)           (None, 13, 13, 64)        36928     \n",
      "_________________________________________________________________\n",
      "activation_45 (Activation)   (None, 13, 13, 64)        0         \n",
      "_________________________________________________________________\n",
      "max_pooling2d_15 (MaxPooling (None, 6, 6, 64)          0         \n",
      "_________________________________________________________________\n",
      "dropout_30 (Dropout)         (None, 6, 6, 64)          0         \n",
      "_________________________________________________________________\n",
      "flatten_7 (Flatten)          (None, 2304)              0         \n",
      "_________________________________________________________________\n",
      "dense_26 (Dense)             (None, 512)               1180160   \n",
      "_________________________________________________________________\n",
      "activation_46 (Activation)   (None, 512)               0         \n",
      "_________________________________________________________________\n",
      "dropout_31 (Dropout)         (None, 512)               0         \n",
      "_________________________________________________________________\n",
      "dense_27 (Dense)             (None, 10)                5130      \n",
      "_________________________________________________________________\n",
      "activation_47 (Activation)   (None, 10)                0         \n",
      "=================================================================\n",
      "Total params: 1,250,858\n",
      "Trainable params: 1,250,858\n",
      "Non-trainable params: 0\n",
      "_________________________________________________________________\n",
      "Epoch 1/20\n",
      "391/391 [==============================] - 51s 128ms/step - loss: 1.9863 - accuracy: 0.2735 - val_loss: 1.3138 - val_accuracy: 0.5258\n",
      "Epoch 2/20\n",
      "391/391 [==============================] - 50s 128ms/step - loss: 1.3609 - accuracy: 0.5160 - val_loss: 1.2186 - val_accuracy: 0.5903\n",
      "Epoch 3/20\n",
      "391/391 [==============================] - 50s 128ms/step - loss: 1.1211 - accuracy: 0.6065 - val_loss: 0.9327 - val_accuracy: 0.6755\n",
      "Epoch 4/20\n",
      "391/391 [==============================] - 50s 128ms/step - loss: 0.9834 - accuracy: 0.6553 - val_loss: 0.8384 - val_accuracy: 0.7106\n",
      "Epoch 5/20\n",
      "391/391 [==============================] - 50s 129ms/step - loss: 0.8690 - accuracy: 0.6943 - val_loss: 0.8618 - val_accuracy: 0.6987\n",
      "Epoch 6/20\n",
      "391/391 [==============================] - 51s 131ms/step - loss: 0.8017 - accuracy: 0.7202 - val_loss: 0.7315 - val_accuracy: 0.7476\n",
      "Epoch 7/20\n",
      "391/391 [==============================] - 50s 129ms/step - loss: 0.7417 - accuracy: 0.7398 - val_loss: 0.8109 - val_accuracy: 0.7210\n",
      "Epoch 8/20\n",
      "391/391 [==============================] - 50s 129ms/step - loss: 0.7030 - accuracy: 0.7562 - val_loss: 0.6792 - val_accuracy: 0.7688\n",
      "Epoch 9/20\n",
      "391/391 [==============================] - 51s 129ms/step - loss: 0.6705 - accuracy: 0.7713 - val_loss: 0.6704 - val_accuracy: 0.7701\n",
      "Epoch 10/20\n",
      "391/391 [==============================] - 51s 129ms/step - loss: 0.6404 - accuracy: 0.7767 - val_loss: 0.7455 - val_accuracy: 0.7472\n",
      "Epoch 11/20\n",
      "391/391 [==============================] - 51s 129ms/step - loss: 0.6291 - accuracy: 0.7850 - val_loss: 0.7403 - val_accuracy: 0.7631\n",
      "Epoch 12/20\n",
      "391/391 [==============================] - 51s 129ms/step - loss: 0.6076 - accuracy: 0.7905 - val_loss: 0.6874 - val_accuracy: 0.7716\n",
      "Epoch 13/20\n",
      "391/391 [==============================] - 51s 130ms/step - loss: 0.6107 - accuracy: 0.7883 - val_loss: 0.6617 - val_accuracy: 0.7841\n",
      "Epoch 14/20\n",
      "391/391 [==============================] - 51s 131ms/step - loss: 0.5886 - accuracy: 0.8004 - val_loss: 0.6925 - val_accuracy: 0.7759\n",
      "Epoch 15/20\n",
      "391/391 [==============================] - 50s 129ms/step - loss: 0.6035 - accuracy: 0.7952 - val_loss: 0.7504 - val_accuracy: 0.7545\n",
      "Epoch 16/20\n",
      "391/391 [==============================] - 51s 129ms/step - loss: 0.5910 - accuracy: 0.8017 - val_loss: 0.6545 - val_accuracy: 0.7817\n",
      "Epoch 17/20\n",
      "391/391 [==============================] - 50s 129ms/step - loss: 0.5921 - accuracy: 0.8023 - val_loss: 0.6686 - val_accuracy: 0.7879\n",
      "Epoch 18/20\n",
      "391/391 [==============================] - 51s 130ms/step - loss: 0.5921 - accuracy: 0.8037 - val_loss: 0.6830 - val_accuracy: 0.7753\n",
      "Epoch 19/20\n",
      "391/391 [==============================] - 51s 130ms/step - loss: 0.5897 - accuracy: 0.8019 - val_loss: 1.0504 - val_accuracy: 0.7337\n",
      "Epoch 20/20\n",
      "391/391 [==============================] - 51s 130ms/step - loss: 0.5976 - accuracy: 0.8015 - val_loss: 0.6926 - val_accuracy: 0.7804\n",
      "Test loss: 0.6926195621490479\n",
      "Test accuracy: 0.7803999781608582\n"
     ]
    }
   ],
   "source": [
    "model = Sequential()\n",
    "model.add(Conv2D(32, (3, 3), padding='same',\n",
    "                 input_shape=x_train.shape[1:]))\n",
    "model.add(Activation('relu'))\n",
    "model.add(Conv2D(32, (3, 3)))\n",
    "model.add(Activation('relu'))\n",
    "model.add(MaxPooling2D(pool_size=(2, 2)))\n",
    "model.add(Dropout(0.25))\n",
    "\n",
    "model.add(Conv2D(64, (3, 3), padding='same'))\n",
    "model.add(Activation('relu'))\n",
    "model.add(Conv2D(64, (3, 3)))\n",
    "model.add(Activation('relu'))\n",
    "model.add(MaxPooling2D(pool_size=(2, 2)))\n",
    "model.add(Dropout(0.25))\n",
    "\n",
    "model.add(Flatten())\n",
    "model.add(Dense(512))\n",
    "model.add(Activation('relu'))\n",
    "model.add(Dropout(0.5))\n",
    "model.add(Dense(num_classes))\n",
    "model.add(Activation('softmax'))\n",
    "model.summary()\n",
    "\n",
    "model.compile(loss='categorical_crossentropy',\n",
    "              optimizer=RMSprop(),\n",
    "              metrics=['accuracy'])\n",
    "\n",
    "history = model.fit(x_train, y_train,\n",
    "                    batch_size=batch_size,\n",
    "                    epochs=epochs,\n",
    "                    verbose=1,\n",
    "                    validation_data=(x_test, y_test))\n",
    "score = model.evaluate(x_test, y_test, verbose=0)\n",
    "print('Test loss:', score[0])\n",
    "print('Test accuracy:', score[1])"
   ]
  },
  {
   "cell_type": "code",
   "execution_count": 41,
   "metadata": {},
   "outputs": [
    {
     "name": "stdout",
     "output_type": "stream",
     "text": [
      "Model: \"sequential_17\"\n",
      "_________________________________________________________________\n",
      "Layer (type)                 Output Shape              Param #   \n",
      "=================================================================\n",
      "conv2d_34 (Conv2D)           (None, 32, 32, 32)        896       \n",
      "_________________________________________________________________\n",
      "activation_42 (Activation)   (None, 32, 32, 32)        0         \n",
      "_________________________________________________________________\n",
      "conv2d_35 (Conv2D)           (None, 30, 30, 32)        9248      \n",
      "_________________________________________________________________\n",
      "activation_43 (Activation)   (None, 30, 30, 32)        0         \n",
      "_________________________________________________________________\n",
      "max_pooling2d_14 (MaxPooling (None, 15, 15, 32)        0         \n",
      "_________________________________________________________________\n",
      "dropout_29 (Dropout)         (None, 15, 15, 32)        0         \n",
      "_________________________________________________________________\n",
      "conv2d_36 (Conv2D)           (None, 15, 15, 64)        18496     \n",
      "_________________________________________________________________\n",
      "activation_44 (Activation)   (None, 15, 15, 64)        0         \n",
      "_________________________________________________________________\n",
      "conv2d_37 (Conv2D)           (None, 13, 13, 64)        36928     \n",
      "_________________________________________________________________\n",
      "activation_45 (Activation)   (None, 13, 13, 64)        0         \n",
      "_________________________________________________________________\n",
      "max_pooling2d_15 (MaxPooling (None, 6, 6, 64)          0         \n",
      "_________________________________________________________________\n",
      "dropout_30 (Dropout)         (None, 6, 6, 64)          0         \n",
      "_________________________________________________________________\n",
      "flatten_7 (Flatten)          (None, 2304)              0         \n",
      "_________________________________________________________________\n",
      "dense_26 (Dense)             (None, 512)               1180160   \n",
      "_________________________________________________________________\n",
      "activation_46 (Activation)   (None, 512)               0         \n",
      "_________________________________________________________________\n",
      "dropout_31 (Dropout)         (None, 512)               0         \n",
      "_________________________________________________________________\n",
      "dense_27 (Dense)             (None, 10)                5130      \n",
      "_________________________________________________________________\n",
      "activation_47 (Activation)   (None, 10)                0         \n",
      "=================================================================\n",
      "Total params: 1,250,858\n",
      "Trainable params: 1,250,858\n",
      "Non-trainable params: 0\n",
      "_________________________________________________________________\n"
     ]
    }
   ],
   "source": [
    "model.summary()"
   ]
  },
  {
   "cell_type": "markdown",
   "metadata": {},
   "source": [
    "## 同樣運算 10 個 epochs，但 CNN 在 test data 的準確率顯著優於 DNN!"
   ]
  },
  {
   "cell_type": "markdown",
   "metadata": {},
   "source": [
    "## 作業\n",
    "1. 請試著調整各個超參數，並說明那些超參數對於結果有明顯的影響?\n",
    "2. CNN 與 DNN 哪個模型的參數數量比較多? 造成參數的數量不同的原因在哪?"
   ]
  },
  {
   "cell_type": "markdown",
   "metadata": {},
   "source": [
    "1.可以調整的有: Conv2D 的層數、filters 數量、stride 大小、學習率的大小、優化器的選擇、Dropout 的比率等等。其中 Conv2D 的層數與優化器的選   擇對結果會有較明顯的影響。\n",
    "\n",
    "2.DNN 的參數量較多，可以看出 CNN 在卷積時，透過較小的參數量就可以逐步縮小影像大小，讓最後再接上 Dense 層時不要有過多的參數。"
   ]
  },
  {
   "cell_type": "code",
   "execution_count": null,
   "metadata": {},
   "outputs": [],
   "source": []
  }
 ],
 "metadata": {
  "kernelspec": {
   "display_name": "Python 3",
   "language": "python",
   "name": "python3"
  },
  "language_info": {
   "codemirror_mode": {
    "name": "ipython",
    "version": 3
   },
   "file_extension": ".py",
   "mimetype": "text/x-python",
   "name": "python",
   "nbconvert_exporter": "python",
   "pygments_lexer": "ipython3",
   "version": "3.7.3"
  }
 },
 "nbformat": 4,
 "nbformat_minor": 2
}
