{
 "cells": [
  {
   "cell_type": "markdown",
   "metadata": {},
   "source": [
    "## Work\n",
    "1. 請嘗試將 preproc_x 替換成以每筆資料的 min/max 進行標準化至 -1 ~ 1 間，再進行訓練\n",
    "2. 請嘗試將 mlp 疊更深 (e.g 5~10 層)，進行訓練後觀察 learning curve 的走勢\n",
    "3. (optional) 請改用 GPU 進行訓練 (如果你有 GPU 的話)，比較使用 CPU 與 GPU 的訓練速度"
   ]
  },
  {
   "cell_type": "code",
   "execution_count": 2,
   "metadata": {},
   "outputs": [
    {
     "name": "stderr",
     "output_type": "stream",
     "text": [
      "'nvidia-smi' 不是內部或外部命令、可執行的程式或批次檔。\n"
     ]
    }
   ],
   "source": [
    "## 確認硬體資源 (如果你是在 Linux, 若是在 Windows, 請參考 https://blog.csdn.net/idwtwt/article/details/78017565)\n",
    "!nvidia-smi\n"
   ]
  },
  {
   "cell_type": "code",
   "execution_count": 17,
   "metadata": {},
   "outputs": [],
   "source": [
    "import os\n",
    "import keras\n",
    "\n",
    "# 請嘗試設定 GPU：os.environ\n"
   ]
  },
  {
   "cell_type": "code",
   "execution_count": 18,
   "metadata": {},
   "outputs": [],
   "source": [
    "train, test = keras.datasets.cifar10.load_data()"
   ]
  },
  {
   "cell_type": "code",
   "execution_count": 21,
   "metadata": {},
   "outputs": [],
   "source": [
    "## 資料前處理\n",
    "def preproc_x(x, flatten=True):\n",
    "    x = (x-x.min() / x.max()-x.min())\n",
    "    if flatten:\n",
    "        x = x.reshape((len(x), -1))\n",
    "    return x\n",
    "\n",
    "def preproc_y(y, num_classes=10):\n",
    "    if y.shape[-1] == 1:\n",
    "        y = keras.utils.to_categorical(y, num_classes)\n",
    "    return y "
   ]
  },
  {
   "cell_type": "code",
   "execution_count": 22,
   "metadata": {},
   "outputs": [],
   "source": [
    "x_train, y_train = train\n",
    "x_test, y_test = test\n",
    "\n",
    "# Preproc the inputs\n",
    "x_train = preproc_x(x_train)\n",
    "x_test = preproc_x(x_test)\n",
    "\n",
    "# Preprc the outputs\n",
    "y_train = preproc_y(y_train)\n",
    "y_test = preproc_y(y_test)"
   ]
  },
  {
   "cell_type": "code",
   "execution_count": 38,
   "metadata": {},
   "outputs": [],
   "source": [
    "\"\"\"Code Here\n",
    "建立你的神經網路\n",
    "\"\"\"\n",
    "def build_mlp(input_shape, output_units=10, num_neurons=[512, 256, 128, 128, 128,128 ,128 ,128 ,128 ,128]):\n",
    "    input_layer = keras.layers.Input(input_shape)\n",
    "    \n",
    "    for i, n_units in enumerate(num_neurons):\n",
    "        if i == 0:\n",
    "            x = keras.layers.Dense(units=n_units, activation=\"relu\", name=\"hidden_layer\"+str(i+1))(input_layer)\n",
    "        else:\n",
    "            x = keras.layers.Dense(units=n_units, activation=\"relu\", name=\"hidden_layer\"+str(i+1))(x)\n",
    "    \n",
    "    out = keras.layers.Dense(units=output_units, activation=\"softmax\", name=\"output\")(x)\n",
    "    \n",
    "    model = keras.models.Model(inputs=[input_layer], outputs=[out])\n",
    "    return model\n"
   ]
  },
  {
   "cell_type": "code",
   "execution_count": 39,
   "metadata": {},
   "outputs": [
    {
     "name": "stdout",
     "output_type": "stream",
     "text": [
      "Model: \"model_3\"\n",
      "_________________________________________________________________\n",
      "Layer (type)                 Output Shape              Param #   \n",
      "=================================================================\n",
      "input_4 (InputLayer)         [(None, 3072)]            0         \n",
      "_________________________________________________________________\n",
      "hidden_layer1 (Dense)        (None, 512)               1573376   \n",
      "_________________________________________________________________\n",
      "hidden_layer2 (Dense)        (None, 256)               131328    \n",
      "_________________________________________________________________\n",
      "hidden_layer3 (Dense)        (None, 128)               32896     \n",
      "_________________________________________________________________\n",
      "hidden_layer4 (Dense)        (None, 128)               16512     \n",
      "_________________________________________________________________\n",
      "hidden_layer5 (Dense)        (None, 128)               16512     \n",
      "_________________________________________________________________\n",
      "hidden_layer6 (Dense)        (None, 128)               16512     \n",
      "_________________________________________________________________\n",
      "hidden_layer7 (Dense)        (None, 128)               16512     \n",
      "_________________________________________________________________\n",
      "hidden_layer8 (Dense)        (None, 128)               16512     \n",
      "_________________________________________________________________\n",
      "hidden_layer9 (Dense)        (None, 128)               16512     \n",
      "_________________________________________________________________\n",
      "hidden_layer10 (Dense)       (None, 128)               16512     \n",
      "_________________________________________________________________\n",
      "output (Dense)               (None, 10)                1290      \n",
      "=================================================================\n",
      "Total params: 1,854,474\n",
      "Trainable params: 1,854,474\n",
      "Non-trainable params: 0\n",
      "_________________________________________________________________\n"
     ]
    }
   ],
   "source": [
    "model = build_mlp(input_shape=x_train.shape[1:])\n",
    "model.summary()"
   ]
  },
  {
   "cell_type": "code",
   "execution_count": 40,
   "metadata": {},
   "outputs": [],
   "source": [
    "## 超參數設定\n",
    "LEARNING_RATE = 0.001\n",
    "EPOCHS = 100\n",
    "BATCH_SIZE = 256"
   ]
  },
  {
   "cell_type": "code",
   "execution_count": 41,
   "metadata": {},
   "outputs": [],
   "source": [
    "optimizer = keras.optimizers.Adam(lr=LEARNING_RATE)\n",
    "model.compile(loss=\"categorical_crossentropy\", metrics=[\"accuracy\"], optimizer=optimizer)"
   ]
  },
  {
   "cell_type": "code",
   "execution_count": 42,
   "metadata": {},
   "outputs": [
    {
     "name": "stdout",
     "output_type": "stream",
     "text": [
      "Epoch 1/100\n",
      "196/196 [==============================] - 3s 14ms/step - loss: 10.3255 - accuracy: 0.1479 - val_loss: 1.9515 - val_accuracy: 0.2814\n",
      "Epoch 2/100\n",
      "196/196 [==============================] - 2s 12ms/step - loss: 1.9307 - accuracy: 0.2959 - val_loss: 1.8822 - val_accuracy: 0.3144\n",
      "Epoch 3/100\n",
      "196/196 [==============================] - 2s 12ms/step - loss: 1.8437 - accuracy: 0.3326 - val_loss: 1.7453 - val_accuracy: 0.3732\n",
      "Epoch 4/100\n",
      "196/196 [==============================] - 3s 13ms/step - loss: 1.7367 - accuracy: 0.3760 - val_loss: 1.7039 - val_accuracy: 0.3852\n",
      "Epoch 5/100\n",
      "196/196 [==============================] - 2s 13ms/step - loss: 1.7040 - accuracy: 0.3888 - val_loss: 1.6735 - val_accuracy: 0.3953\n",
      "Epoch 6/100\n",
      "196/196 [==============================] - 2s 12ms/step - loss: 1.6673 - accuracy: 0.4038 - val_loss: 1.7178 - val_accuracy: 0.3807\n",
      "Epoch 7/100\n",
      "196/196 [==============================] - 3s 13ms/step - loss: 1.6187 - accuracy: 0.4195 - val_loss: 1.5769 - val_accuracy: 0.4332\n",
      "Epoch 8/100\n",
      "196/196 [==============================] - 2s 12ms/step - loss: 1.5867 - accuracy: 0.4321 - val_loss: 1.6208 - val_accuracy: 0.4217\n",
      "Epoch 9/100\n",
      "196/196 [==============================] - 2s 12ms/step - loss: 1.5808 - accuracy: 0.4369 - val_loss: 1.5536 - val_accuracy: 0.4497\n",
      "Epoch 10/100\n",
      "196/196 [==============================] - 2s 12ms/step - loss: 1.5440 - accuracy: 0.4473 - val_loss: 1.5842 - val_accuracy: 0.4328\n",
      "Epoch 11/100\n",
      "196/196 [==============================] - 2s 12ms/step - loss: 1.5280 - accuracy: 0.4518 - val_loss: 1.5385 - val_accuracy: 0.4504\n",
      "Epoch 12/100\n",
      "196/196 [==============================] - 2s 12ms/step - loss: 1.4946 - accuracy: 0.4621 - val_loss: 1.5459 - val_accuracy: 0.4481\n",
      "Epoch 13/100\n",
      "196/196 [==============================] - 2s 12ms/step - loss: 1.4993 - accuracy: 0.4642 - val_loss: 1.5386 - val_accuracy: 0.4523\n",
      "Epoch 14/100\n",
      "196/196 [==============================] - 3s 13ms/step - loss: 1.4933 - accuracy: 0.4625 - val_loss: 1.5531 - val_accuracy: 0.4390\n",
      "Epoch 15/100\n",
      "196/196 [==============================] - 2s 12ms/step - loss: 1.4643 - accuracy: 0.4760 - val_loss: 1.5456 - val_accuracy: 0.4484\n",
      "Epoch 16/100\n",
      "196/196 [==============================] - 2s 12ms/step - loss: 1.4596 - accuracy: 0.4772 - val_loss: 1.5834 - val_accuracy: 0.4367\n",
      "Epoch 17/100\n",
      "196/196 [==============================] - 2s 13ms/step - loss: 1.4535 - accuracy: 0.4768 - val_loss: 1.5008 - val_accuracy: 0.4719\n",
      "Epoch 18/100\n",
      "196/196 [==============================] - 2s 12ms/step - loss: 1.4416 - accuracy: 0.4819 - val_loss: 1.4764 - val_accuracy: 0.4697\n",
      "Epoch 19/100\n",
      "196/196 [==============================] - 2s 12ms/step - loss: 1.4096 - accuracy: 0.4940 - val_loss: 1.5653 - val_accuracy: 0.4466\n",
      "Epoch 20/100\n",
      "196/196 [==============================] - 3s 13ms/step - loss: 1.4103 - accuracy: 0.5004 - val_loss: 1.5273 - val_accuracy: 0.4583\n",
      "Epoch 21/100\n",
      "196/196 [==============================] - 2s 12ms/step - loss: 1.3945 - accuracy: 0.5005 - val_loss: 1.5111 - val_accuracy: 0.4596\n",
      "Epoch 22/100\n",
      "196/196 [==============================] - 2s 12ms/step - loss: 1.3995 - accuracy: 0.5022 - val_loss: 1.5231 - val_accuracy: 0.4507\n",
      "Epoch 23/100\n",
      "196/196 [==============================] - 2s 12ms/step - loss: 1.3690 - accuracy: 0.5081 - val_loss: 1.5342 - val_accuracy: 0.4581\n",
      "Epoch 24/100\n",
      "196/196 [==============================] - 2s 12ms/step - loss: 1.3678 - accuracy: 0.5120 - val_loss: 1.4347 - val_accuracy: 0.4935\n",
      "Epoch 25/100\n",
      "196/196 [==============================] - 2s 12ms/step - loss: 1.3435 - accuracy: 0.5192 - val_loss: 1.4716 - val_accuracy: 0.4820\n",
      "Epoch 26/100\n",
      "196/196 [==============================] - 2s 12ms/step - loss: 1.3639 - accuracy: 0.5140 - val_loss: 1.4600 - val_accuracy: 0.4845\n",
      "Epoch 27/100\n",
      "196/196 [==============================] - 2s 13ms/step - loss: 1.3441 - accuracy: 0.5217 - val_loss: 1.4322 - val_accuracy: 0.4925\n",
      "Epoch 28/100\n",
      "196/196 [==============================] - 2s 12ms/step - loss: 1.3117 - accuracy: 0.5337 - val_loss: 1.4734 - val_accuracy: 0.4789\n",
      "Epoch 29/100\n",
      "196/196 [==============================] - 2s 12ms/step - loss: 1.3162 - accuracy: 0.5308 - val_loss: 1.4658 - val_accuracy: 0.4880\n",
      "Epoch 30/100\n",
      "196/196 [==============================] - 2s 13ms/step - loss: 1.3076 - accuracy: 0.5351 - val_loss: 1.4522 - val_accuracy: 0.4828\n",
      "Epoch 31/100\n",
      "196/196 [==============================] - 2s 12ms/step - loss: 1.2927 - accuracy: 0.5357 - val_loss: 1.5035 - val_accuracy: 0.4687\n",
      "Epoch 32/100\n",
      "196/196 [==============================] - 2s 12ms/step - loss: 1.2953 - accuracy: 0.5367 - val_loss: 1.4866 - val_accuracy: 0.4787\n",
      "Epoch 33/100\n",
      "196/196 [==============================] - 2s 13ms/step - loss: 1.2702 - accuracy: 0.5464 - val_loss: 1.4625 - val_accuracy: 0.4836\n",
      "Epoch 34/100\n",
      "196/196 [==============================] - 2s 12ms/step - loss: 1.2563 - accuracy: 0.5532 - val_loss: 1.4581 - val_accuracy: 0.4839\n",
      "Epoch 35/100\n",
      "196/196 [==============================] - 2s 12ms/step - loss: 1.2563 - accuracy: 0.5515 - val_loss: 1.4581 - val_accuracy: 0.4844\n",
      "Epoch 36/100\n",
      "196/196 [==============================] - 2s 12ms/step - loss: 1.2284 - accuracy: 0.5619 - val_loss: 1.4739 - val_accuracy: 0.4834\n",
      "Epoch 37/100\n",
      "196/196 [==============================] - 2s 12ms/step - loss: 1.2400 - accuracy: 0.5544 - val_loss: 1.4343 - val_accuracy: 0.4997\n",
      "Epoch 38/100\n",
      "196/196 [==============================] - 2s 12ms/step - loss: 1.2148 - accuracy: 0.5655 - val_loss: 1.4463 - val_accuracy: 0.4975\n",
      "Epoch 39/100\n",
      "196/196 [==============================] - 2s 13ms/step - loss: 1.2262 - accuracy: 0.5664 - val_loss: 1.4600 - val_accuracy: 0.4964\n",
      "Epoch 40/100\n",
      "196/196 [==============================] - 2s 13ms/step - loss: 1.1937 - accuracy: 0.5753 - val_loss: 1.4204 - val_accuracy: 0.5032\n",
      "Epoch 41/100\n",
      "196/196 [==============================] - 2s 12ms/step - loss: 1.1898 - accuracy: 0.5724 - val_loss: 1.4077 - val_accuracy: 0.5133\n",
      "Epoch 42/100\n",
      "196/196 [==============================] - 2s 13ms/step - loss: 1.1573 - accuracy: 0.5853 - val_loss: 1.4457 - val_accuracy: 0.4996\n",
      "Epoch 43/100\n",
      "196/196 [==============================] - 2s 12ms/step - loss: 1.1899 - accuracy: 0.5769 - val_loss: 1.4581 - val_accuracy: 0.5013\n",
      "Epoch 44/100\n",
      "196/196 [==============================] - 2s 13ms/step - loss: 1.1570 - accuracy: 0.5850 - val_loss: 1.4686 - val_accuracy: 0.4971\n",
      "Epoch 45/100\n",
      "196/196 [==============================] - 2s 12ms/step - loss: 1.1477 - accuracy: 0.5924 - val_loss: 1.4670 - val_accuracy: 0.5004\n",
      "Epoch 46/100\n",
      "196/196 [==============================] - 2s 13ms/step - loss: 1.1487 - accuracy: 0.5877 - val_loss: 1.4497 - val_accuracy: 0.5091\n",
      "Epoch 47/100\n",
      "196/196 [==============================] - 2s 12ms/step - loss: 1.1157 - accuracy: 0.6042 - val_loss: 1.4934 - val_accuracy: 0.4996\n",
      "Epoch 48/100\n",
      "196/196 [==============================] - 2s 12ms/step - loss: 1.1221 - accuracy: 0.6028 - val_loss: 1.4926 - val_accuracy: 0.4959\n",
      "Epoch 49/100\n",
      "196/196 [==============================] - 2s 12ms/step - loss: 1.1144 - accuracy: 0.5985 - val_loss: 1.4794 - val_accuracy: 0.5163\n",
      "Epoch 50/100\n",
      "196/196 [==============================] - 2s 12ms/step - loss: 1.1027 - accuracy: 0.6084 - val_loss: 1.4668 - val_accuracy: 0.5084\n",
      "Epoch 51/100\n",
      "196/196 [==============================] - 2s 12ms/step - loss: 1.1319 - accuracy: 0.5972 - val_loss: 1.4975 - val_accuracy: 0.5033\n",
      "Epoch 52/100\n",
      "196/196 [==============================] - 2s 12ms/step - loss: 1.0928 - accuracy: 0.6124 - val_loss: 1.4732 - val_accuracy: 0.5155\n",
      "Epoch 53/100\n",
      "196/196 [==============================] - 2s 13ms/step - loss: 1.0797 - accuracy: 0.6153 - val_loss: 1.4962 - val_accuracy: 0.4980\n",
      "Epoch 54/100\n",
      "196/196 [==============================] - 2s 12ms/step - loss: 1.0672 - accuracy: 0.6176 - val_loss: 1.5090 - val_accuracy: 0.4968\n",
      "Epoch 55/100\n",
      "196/196 [==============================] - 2s 12ms/step - loss: 1.0665 - accuracy: 0.6208 - val_loss: 1.5878 - val_accuracy: 0.4827\n",
      "Epoch 56/100\n",
      "196/196 [==============================] - 2s 12ms/step - loss: 1.0682 - accuracy: 0.6229 - val_loss: 1.5708 - val_accuracy: 0.4857\n",
      "Epoch 57/100\n"
     ]
    },
    {
     "name": "stdout",
     "output_type": "stream",
     "text": [
      "196/196 [==============================] - 2s 12ms/step - loss: 1.0495 - accuracy: 0.6234 - val_loss: 1.5245 - val_accuracy: 0.4995\n",
      "Epoch 58/100\n",
      "196/196 [==============================] - 3s 13ms/step - loss: 1.0165 - accuracy: 0.6373 - val_loss: 1.5166 - val_accuracy: 0.5073\n",
      "Epoch 59/100\n",
      "196/196 [==============================] - 3s 14ms/step - loss: 1.0240 - accuracy: 0.6377 - val_loss: 1.5015 - val_accuracy: 0.5078\n",
      "Epoch 60/100\n",
      "196/196 [==============================] - 2s 13ms/step - loss: 0.9940 - accuracy: 0.6420 - val_loss: 1.5915 - val_accuracy: 0.4890\n",
      "Epoch 61/100\n",
      "196/196 [==============================] - 2s 12ms/step - loss: 1.0208 - accuracy: 0.6366 - val_loss: 1.5645 - val_accuracy: 0.4950\n",
      "Epoch 62/100\n",
      "196/196 [==============================] - 2s 12ms/step - loss: 0.9747 - accuracy: 0.6490 - val_loss: 1.5437 - val_accuracy: 0.4987\n",
      "Epoch 63/100\n",
      "196/196 [==============================] - 2s 12ms/step - loss: 0.9730 - accuracy: 0.6512 - val_loss: 1.5294 - val_accuracy: 0.5080\n",
      "Epoch 64/100\n",
      "196/196 [==============================] - 2s 13ms/step - loss: 0.9743 - accuracy: 0.6510 - val_loss: 1.5640 - val_accuracy: 0.5103\n",
      "Epoch 65/100\n",
      "196/196 [==============================] - 2s 12ms/step - loss: 0.9741 - accuracy: 0.6521 - val_loss: 1.5315 - val_accuracy: 0.5035\n",
      "Epoch 66/100\n",
      "196/196 [==============================] - 2s 13ms/step - loss: 0.9595 - accuracy: 0.6588 - val_loss: 1.6014 - val_accuracy: 0.5020\n",
      "Epoch 67/100\n",
      "196/196 [==============================] - 2s 12ms/step - loss: 0.9483 - accuracy: 0.6639 - val_loss: 1.5784 - val_accuracy: 0.4952\n",
      "Epoch 68/100\n",
      "196/196 [==============================] - 2s 12ms/step - loss: 0.9476 - accuracy: 0.6600 - val_loss: 1.5719 - val_accuracy: 0.5076\n",
      "Epoch 69/100\n",
      "196/196 [==============================] - 2s 12ms/step - loss: 0.9178 - accuracy: 0.6699 - val_loss: 1.5940 - val_accuracy: 0.5009\n",
      "Epoch 70/100\n",
      "196/196 [==============================] - 2s 12ms/step - loss: 0.9321 - accuracy: 0.6689 - val_loss: 1.5758 - val_accuracy: 0.5039\n",
      "Epoch 71/100\n",
      "196/196 [==============================] - 2s 13ms/step - loss: 0.9115 - accuracy: 0.6763 - val_loss: 1.6328 - val_accuracy: 0.4998\n",
      "Epoch 72/100\n",
      "196/196 [==============================] - 2s 12ms/step - loss: 0.8909 - accuracy: 0.6812 - val_loss: 1.5496 - val_accuracy: 0.5064\n",
      "Epoch 73/100\n",
      "196/196 [==============================] - 2s 13ms/step - loss: 0.8891 - accuracy: 0.6809 - val_loss: 1.6601 - val_accuracy: 0.4997\n",
      "Epoch 74/100\n",
      "196/196 [==============================] - 3s 13ms/step - loss: 0.8607 - accuracy: 0.6934 - val_loss: 1.6372 - val_accuracy: 0.5004\n",
      "Epoch 75/100\n",
      "196/196 [==============================] - 2s 12ms/step - loss: 0.8732 - accuracy: 0.6917 - val_loss: 1.6754 - val_accuracy: 0.4897\n",
      "Epoch 76/100\n",
      "196/196 [==============================] - 2s 12ms/step - loss: 0.8765 - accuracy: 0.6905 - val_loss: 1.6030 - val_accuracy: 0.5108\n",
      "Epoch 77/100\n",
      "196/196 [==============================] - 2s 12ms/step - loss: 0.8483 - accuracy: 0.6946 - val_loss: 1.6991 - val_accuracy: 0.5118\n",
      "Epoch 78/100\n",
      "196/196 [==============================] - 2s 13ms/step - loss: 0.8620 - accuracy: 0.6909 - val_loss: 1.6485 - val_accuracy: 0.5041\n",
      "Epoch 79/100\n",
      "196/196 [==============================] - 3s 13ms/step - loss: 0.8337 - accuracy: 0.7036 - val_loss: 1.6790 - val_accuracy: 0.4984\n",
      "Epoch 80/100\n",
      "196/196 [==============================] - 3s 13ms/step - loss: 0.8252 - accuracy: 0.7059 - val_loss: 1.6854 - val_accuracy: 0.4967\n",
      "Epoch 81/100\n",
      "196/196 [==============================] - 2s 12ms/step - loss: 0.8360 - accuracy: 0.7042 - val_loss: 1.7869 - val_accuracy: 0.4986\n",
      "Epoch 82/100\n",
      "196/196 [==============================] - 2s 13ms/step - loss: 0.8434 - accuracy: 0.7009 - val_loss: 1.7219 - val_accuracy: 0.5000\n",
      "Epoch 83/100\n",
      "196/196 [==============================] - 2s 12ms/step - loss: 0.8046 - accuracy: 0.7146 - val_loss: 1.6637 - val_accuracy: 0.5157\n",
      "Epoch 84/100\n",
      "196/196 [==============================] - 2s 13ms/step - loss: 0.8188 - accuracy: 0.7097 - val_loss: 1.7248 - val_accuracy: 0.5050\n",
      "Epoch 85/100\n",
      "196/196 [==============================] - 2s 12ms/step - loss: 0.7949 - accuracy: 0.7154 - val_loss: 1.7502 - val_accuracy: 0.5000\n",
      "Epoch 86/100\n",
      "196/196 [==============================] - 3s 13ms/step - loss: 0.7857 - accuracy: 0.7190 - val_loss: 1.7540 - val_accuracy: 0.5034\n",
      "Epoch 87/100\n",
      "196/196 [==============================] - 2s 12ms/step - loss: 0.7891 - accuracy: 0.7199 - val_loss: 1.8338 - val_accuracy: 0.5005\n",
      "Epoch 88/100\n",
      "196/196 [==============================] - 2s 12ms/step - loss: 0.7708 - accuracy: 0.7234 - val_loss: 1.8232 - val_accuracy: 0.5095\n",
      "Epoch 89/100\n",
      "196/196 [==============================] - 2s 12ms/step - loss: 0.7657 - accuracy: 0.7291 - val_loss: 1.7045 - val_accuracy: 0.5041\n",
      "Epoch 90/100\n",
      "196/196 [==============================] - 2s 13ms/step - loss: 0.7632 - accuracy: 0.7269 - val_loss: 1.8151 - val_accuracy: 0.5036\n",
      "Epoch 91/100\n",
      "196/196 [==============================] - 2s 13ms/step - loss: 0.7747 - accuracy: 0.7227 - val_loss: 1.8079 - val_accuracy: 0.5010\n",
      "Epoch 92/100\n",
      "196/196 [==============================] - 2s 13ms/step - loss: 0.7469 - accuracy: 0.7346 - val_loss: 1.8455 - val_accuracy: 0.5000\n",
      "Epoch 93/100\n",
      "196/196 [==============================] - 2s 12ms/step - loss: 0.7392 - accuracy: 0.7361 - val_loss: 1.9193 - val_accuracy: 0.4920\n",
      "Epoch 94/100\n",
      "196/196 [==============================] - 2s 12ms/step - loss: 0.7374 - accuracy: 0.7364 - val_loss: 1.8433 - val_accuracy: 0.4980\n",
      "Epoch 95/100\n",
      "196/196 [==============================] - 2s 13ms/step - loss: 0.7280 - accuracy: 0.7421 - val_loss: 1.9327 - val_accuracy: 0.5014\n",
      "Epoch 96/100\n",
      "196/196 [==============================] - 2s 12ms/step - loss: 0.7516 - accuracy: 0.7357 - val_loss: 1.8407 - val_accuracy: 0.4988\n",
      "Epoch 97/100\n",
      "196/196 [==============================] - 2s 12ms/step - loss: 0.7593 - accuracy: 0.7297 - val_loss: 1.8142 - val_accuracy: 0.5095\n",
      "Epoch 98/100\n",
      "196/196 [==============================] - 3s 13ms/step - loss: 0.7063 - accuracy: 0.7510 - val_loss: 1.9020 - val_accuracy: 0.4937\n",
      "Epoch 99/100\n",
      "196/196 [==============================] - 3s 13ms/step - loss: 0.7154 - accuracy: 0.7433 - val_loss: 1.8912 - val_accuracy: 0.4983\n",
      "Epoch 100/100\n",
      "196/196 [==============================] - 2s 13ms/step - loss: 0.7196 - accuracy: 0.7463 - val_loss: 1.8605 - val_accuracy: 0.5039\n"
     ]
    },
    {
     "data": {
      "text/plain": [
       "<tensorflow.python.keras.callbacks.History at 0x1f2007cccc0>"
      ]
     },
     "execution_count": 42,
     "metadata": {},
     "output_type": "execute_result"
    }
   ],
   "source": [
    "model.fit(x_train, y_train, \n",
    "          epochs=EPOCHS, \n",
    "          batch_size=BATCH_SIZE, \n",
    "          validation_data=(x_test, y_test), \n",
    "          shuffle=True)"
   ]
  },
  {
   "cell_type": "code",
   "execution_count": 43,
   "metadata": {},
   "outputs": [
    {
     "data": {
      "image/png": "[encoded data removed]",
      "text/plain": [
       "<Figure size 432x288 with 1 Axes>"
      ]
     },
     "metadata": {
      "needs_background": "light"
     },
     "output_type": "display_data"
    },
    {
     "data": {
      "image/png": "[encoded data removed]",
      "text/plain": [
       "<Figure size 432x288 with 1 Axes>"
      ]
     },
     "metadata": {
      "needs_background": "light"
     },
     "output_type": "display_data"
    }
   ],
   "source": [
    "import matplotlib.pyplot as plt\n",
    "\n",
    "\n",
    "train_loss = model.history.history[\"loss\"]\n",
    "valid_loss = model.history.history[\"val_loss\"]\n",
    "\n",
    "train_acc = model.history.history[\"accuracy\"]\n",
    "valid_acc = model.history.history[\"val_accuracy\"]\n",
    "\n",
    "plt.plot(range(len(train_loss)), train_loss, label=\"train loss\")\n",
    "plt.plot(range(len(valid_loss)), valid_loss, label=\"valid loss\")\n",
    "plt.legend()\n",
    "plt.title(\"Loss\")\n",
    "plt.show()\n",
    "\n",
    "plt.plot(range(len(train_acc)), train_acc, label=\"train accuracy\")\n",
    "plt.plot(range(len(valid_acc)), valid_acc, label=\"valid accuracy\")\n",
    "plt.legend()\n",
    "plt.title(\"Accuracy\")\n",
    "plt.show()"
   ]
  },
  {
   "cell_type": "code",
   "execution_count": null,
   "metadata": {},
   "outputs": [],
   "source": []
  }
 ],
 "metadata": {
  "kernelspec": {
   "display_name": "Python 3",
   "language": "python",
   "name": "python3"
  },
  "language_info": {
   "codemirror_mode": {
    "name": "ipython",
    "version": 3
   },
   "file_extension": ".py",
   "mimetype": "text/x-python",
   "name": "python",
   "nbconvert_exporter": "python",
   "pygments_lexer": "ipython3",
   "version": "3.7.3"
  }
 },
 "nbformat": 4,
 "nbformat_minor": 2
}
